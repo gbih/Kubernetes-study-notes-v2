{
 "cells": [
  {
   "cell_type": "markdown",
   "id": "2bcbe7a3-d80e-4f9b-b6be-04be32996c43",
   "metadata": {},
   "source": [
    "# Chapter 2, Section 2.22 Creating a Dockerfile for the image\n",
    "\n",
    "## Objectives\n",
    "1. Build Node script with Dockerfile (Node base image) \n",
    "2. Push to DockerHub\n",
    "3. Pull from DockerHub\n",
    "\n",
    "---\n",
    "\n",
    "## Setup\n",
    "\n",
    "Create Node script as `app.js`\n",
    "\n",
    "Use prepared script from GitHub repo for *[kubernetes-in-action-2nd-edition](https://github.com/luksa/kubernetes-in-action-2nd-edition/blob/master/Chapter02/kiada-0.1/app.js)*\n",
    "\n",
    "\n",
    "```javascript\n",
    "const http = require('http');\n",
    "const os = require('os');\n",
    "const fs = require('fs');\n",
    "\n",
    "const version = \"0.1\";\n",
    "const listenPort = 8080;\n",
    "\n",
    "function sendResponse(status, contentType, encoding, body, response) {\n",
    "    response.writeHead(status, {'Content-Type': contentType});\n",
    "    response.write(body, encoding);\n",
    "    response.end();\n",
    "}\n",
    "\n",
    "function renderFile(req, res, path, contentType) {\n",
    "    let template = fs.readFileSync(path, 'utf8');\n",
    "\n",
    "    let map = Object.assign({\n",
    "        \"{{hostname}}\": os.hostname(),\n",
    "        \"{{clientIP}}\": req.connection.remoteAddress,\n",
    "        \"{{version}}\": version,\n",
    "    });\n",
    "\n",
    "    let body = template.replace(\n",
    "        new RegExp(Object.keys(map).join('|'), 'g'),\n",
    "        function (matched) {\n",
    "            return map[matched];\n",
    "        });\n",
    "\n",
    "    sendResponse(200, contentType, 'utf8', body, res);\n",
    "}\n",
    "\n",
    "function sendFile(req, res, path, contentType) {\n",
    "    let body = fs.readFileSync(path, 'binary');\n",
    "    sendResponse(200, contentType, 'binary', body, res);\n",
    "}\n",
    "\n",
    "// this function guesses if the client that sent the request is a full-fledged\n",
    "// graphical web browser and not a text-based tool such as curl\n",
    "// graphical browsers typically send accept: text/html,application/xhtml+xml,...\n",
    "// curl sends accept: */*\n",
    "function isGraphicalWebBrowser(req) {\n",
    "    let accept = req.headers.accept || \"*/*\";\n",
    "    return accept.startsWith(\"text/html\");\n",
    "}\n",
    "\n",
    "function handler(req, res) {\n",
    "    let clientIP = req.connection.remoteAddress;\n",
    "    console.log(\"Received request for \" + req.url + \" from \" + clientIP);\n",
    "    switch (req.url) {\n",
    "        case '/':\n",
    "            if (isGraphicalWebBrowser(req)) {\n",
    "                res.writeHead(302, {\"Location\": \"html\"});\n",
    "                res.write(\"Redirecting to the html version...\");\n",
    "                res.end();\n",
    "                return;\n",
    "            }\n",
    "        // text-based clients fall through to the '/text' case\n",
    "        case '/text':\n",
    "            return renderFile(req, res, \"html/index.txt\", \"text/plain\");\n",
    "        case '/html':\n",
    "            return renderFile(req, res, \"html/index.html\", \"text/html\");\n",
    "        case '/stylesheet.css':\n",
    "            return sendFile(req, res, \"html/stylesheet.css\", \"text/css\");\n",
    "        case '/javascript.js':\n",
    "            return sendFile(req, res, \"html/javascript.js\", \"text/javascript\");\n",
    "        case '/favicon.ico':\n",
    "            return sendFile(req, res, \"html/favicon.ico\", \"image/x-icon\");\n",
    "        case '/cover.png':\n",
    "            return sendFile(req, res, \"html/cover.png\", \"image/png\");\n",
    "        default:\n",
    "            return sendResponse(404, \"text/plain\", \"utf8\", req.url + \" not found\", res)\n",
    "    }\n",
    "}\n",
    "\n",
    "console.log(\"Kiada - Kubernetes in Action Demo Application\");\n",
    "console.log(\"---------------------------------------------\");\n",
    "console.log(\"Kiada \" + version + \" starting...\");\n",
    "console.log(\"Local hostname is \" + os.hostname());\n",
    "console.log(\"Listening on port \" + listenPort);\n",
    "\n",
    "let server = http.createServer(handler);\n",
    "server.listen(listenPort);\n",
    "\n",
    "```\n",
    "\n",
    "---\n",
    "\n",
    "Create `Dockerfile`\n",
    "\n",
    "```bash\n",
    "FROM node:16\n",
    "COPY app.js /app.js\n",
    "COPY html/ /html\n",
    "ENTRYPOINT [\"node\", \"app.js\"]\n",
    "```\n",
    "\n",
    "\n"
   ]
  },
  {
   "cell_type": "markdown",
   "id": "ed24221d-2b2f-41b5-9eb8-bbfde7e4935a",
   "metadata": {},
   "source": [
    "---\n",
    "\n",
    "## Docker operations\n",
    "\n",
    "Build Docker image and tag as `kiada`\n",
    "\n",
    "We use --quiet here since the output is very noisy in a Jupyter notebook (compared to the CLI)."
   ]
  },
  {
   "cell_type": "code",
   "execution_count": 4,
   "id": "cac6a311-58fe-42d1-8373-5ccde8fa75ea",
   "metadata": {},
   "outputs": [
    {
     "name": "stdout",
     "output_type": "stream",
     "text": [
      "sha256:3c124ed8dcabe2e9677708fe81e59ad4876e9ba69625759dc30b94a8c3d65c37\n",
      "Done\n"
     ]
    }
   ],
   "source": [
    "!docker build -t kiada ./src --quiet\n",
    "print(\"Done\")"
   ]
  },
  {
   "cell_type": "markdown",
   "id": "bb486216-37c1-4e55-abd2-1976d363264c",
   "metadata": {},
   "source": [
    "---\n",
    "Check images"
   ]
  },
  {
   "cell_type": "code",
   "execution_count": 5,
   "id": "bf6d8627-e4bd-4716-acc9-597fd16bfcd2",
   "metadata": {},
   "outputs": [
    {
     "name": "stdout",
     "output_type": "stream",
     "text": [
      "REPOSITORY   TAG       IMAGE ID       CREATED          SIZE\n",
      "kiada        latest    3c124ed8dcab   12 seconds ago   911MB\n"
     ]
    }
   ],
   "source": [
    "!docker images"
   ]
  },
  {
   "cell_type": "markdown",
   "id": "c97d1477-77bf-4feb-95b5-9889f3679a2f",
   "metadata": {},
   "source": [
    "---\n",
    "Create new container named `kiada-container` from the `kiada` image. \n",
    "\n",
    "The container will be detached from the local console via the -d flag.\n",
    "\n",
    "Port 8080 on the local machine will be mapped to port 8080 inside the container.\n"
   ]
  },
  {
   "cell_type": "code",
   "execution_count": 6,
   "id": "00c953df-7758-46f5-97fc-8dc233897667",
   "metadata": {},
   "outputs": [
    {
     "name": "stdout",
     "output_type": "stream",
     "text": [
      "be3d95b146e633bf99086824ab83bd5e788c1f4777df7c1ae63b762040c75546\n"
     ]
    }
   ],
   "source": [
    "!docker run --name kiada-container -p 8080:8080 -d kiada"
   ]
  },
  {
   "cell_type": "markdown",
   "id": "32ecaa4d-b338-45bb-818f-b1f8ae1fe5c0",
   "metadata": {},
   "source": [
    "---\n",
    "Verify this new container process is running.\n"
   ]
  },
  {
   "cell_type": "code",
   "execution_count": 7,
   "id": "78df7860-3ab9-4d6e-bb50-aa7cbc4383d7",
   "metadata": {},
   "outputs": [
    {
     "name": "stdout",
     "output_type": "stream",
     "text": [
      "CONTAINER ID   IMAGE     COMMAND         CREATED         STATUS         PORTS                    NAMES\n",
      "be3d95b146e6   kiada     \"node app.js\"   4 seconds ago   Up 3 seconds   0.0.0.0:8080->8080/tcp   kiada-container\n"
     ]
    }
   ],
   "source": [
    "!docker ps"
   ]
  },
  {
   "cell_type": "markdown",
   "id": "3d23d453-b023-420e-9051-ab595344aa39",
   "metadata": {},
   "source": [
    "---\n",
    "Test via curl (inside the multipass instance)\n"
   ]
  },
  {
   "cell_type": "code",
   "execution_count": 8,
   "id": "17187f50-9af0-4153-80f6-ccda469583c2",
   "metadata": {},
   "outputs": [
    {
     "name": "stdout",
     "output_type": "stream",
     "text": [
      "Kiada version 0.1. Request processed by \"be3d95b146e6\". Client IP: ::ffff:172.17.0.1\n"
     ]
    }
   ],
   "source": [
    "!curl localhost:8080"
   ]
  },
  {
   "cell_type": "markdown",
   "id": "7664380b-2e2f-4510-b12a-79fc24ab9af6",
   "metadata": {},
   "source": [
    "---\n",
    "If applicable, run `multipass info actionbook-v2` to find the external IP, and use that for browser access. For example, `http://192.168.64.5:8080/`"
   ]
  },
  {
   "cell_type": "markdown",
   "id": "2d18dd90-3811-4dd7-8251-730569bbe3c4",
   "metadata": {},
   "source": [
    "---\n",
    "Explore different Docker operations."
   ]
  },
  {
   "cell_type": "code",
   "execution_count": 9,
   "id": "790b38f8-14da-43ec-afb8-19bd7cd09f61",
   "metadata": {},
   "outputs": [
    {
     "name": "stdout",
     "output_type": "stream",
     "text": [
      "CONTAINER ID   IMAGE     COMMAND         CREATED          STATUS          PORTS                    NAMES\n",
      "be3d95b146e6   kiada     \"node app.js\"   11 seconds ago   Up 11 seconds   0.0.0.0:8080->8080/tcp   kiada-container\n"
     ]
    }
   ],
   "source": [
    "!docker ps"
   ]
  },
  {
   "cell_type": "code",
   "execution_count": 10,
   "id": "ba5cee5d-a08f-4725-a669-761eb4cbb1c3",
   "metadata": {},
   "outputs": [
    {
     "name": "stdout",
     "output_type": "stream",
     "text": [
      "kiada-container\n",
      "Done\n"
     ]
    }
   ],
   "source": [
    "!docker stop kiada-container\n",
    "print(\"Done\")"
   ]
  },
  {
   "cell_type": "code",
   "execution_count": 11,
   "id": "bdc30020-3509-4c52-a6d0-5e54ccf455bd",
   "metadata": {},
   "outputs": [
    {
     "name": "stdout",
     "output_type": "stream",
     "text": [
      "kiada-container\n",
      "Done\n"
     ]
    }
   ],
   "source": [
    "!docker start kiada-container\n",
    "print(\"Done\")"
   ]
  },
  {
   "cell_type": "code",
   "execution_count": 12,
   "id": "f414a68d-38c1-4c9c-962c-4b26cd97bc7b",
   "metadata": {},
   "outputs": [
    {
     "name": "stdout",
     "output_type": "stream",
     "text": [
      "kiada-container\n",
      "kiada-container\n",
      "Done\n"
     ]
    }
   ],
   "source": [
    "!docker stop kiada-container\n",
    "!docker rm kiada-container\n",
    "print(\"Done\")"
   ]
  },
  {
   "cell_type": "code",
   "execution_count": 13,
   "id": "b833093e-1f61-4bb3-8aec-94808629ee84",
   "metadata": {},
   "outputs": [
    {
     "name": "stdout",
     "output_type": "stream",
     "text": [
      "Untagged: kiada:latest\n",
      "Deleted: sha256:3c124ed8dcabe2e9677708fe81e59ad4876e9ba69625759dc30b94a8c3d65c37\n",
      "Done\n"
     ]
    }
   ],
   "source": [
    "!docker rmi kiada\n",
    "print(\"Done\")"
   ]
  },
  {
   "cell_type": "code",
   "execution_count": 14,
   "id": "d8dbb22f-d1b2-432b-8400-76c77da0cfe9",
   "metadata": {},
   "outputs": [
    {
     "name": "stdout",
     "output_type": "stream",
     "text": [
      "REPOSITORY   TAG       IMAGE ID   CREATED   SIZE\n",
      "Done\n"
     ]
    }
   ],
   "source": [
    "!docker images prune\n",
    "print(\"Done\")"
   ]
  },
  {
   "cell_type": "markdown",
   "id": "23207a32-abf8-405e-aee8-d95ef2041a16",
   "metadata": {},
   "source": [
    "---\n",
    "# Create another image, then push to DockerHub"
   ]
  },
  {
   "cell_type": "code",
   "execution_count": 15,
   "id": "5e8f64ad-bd4a-474b-adc4-2c529336c620",
   "metadata": {},
   "outputs": [
    {
     "name": "stdout",
     "output_type": "stream",
     "text": [
      "sha256:3c124ed8dcabe2e9677708fe81e59ad4876e9ba69625759dc30b94a8c3d65c37\n"
     ]
    }
   ],
   "source": [
    "!docker build -t kiada ./src --quiet"
   ]
  },
  {
   "cell_type": "markdown",
   "id": "4901ab58-d8b9-489d-aeba-7f6dd166004f",
   "metadata": {},
   "source": [
    "---\n",
    "Add an additional tag for the image. The current name is kiada. We want to tag it as\n",
    "\n",
    "```bash\n",
    "<username>/kiada:<version>\n",
    "``` \n",
    "\n",
    "       \n",
    "    "
   ]
  },
  {
   "cell_type": "code",
   "execution_count": 16,
   "id": "f7e7d0ec-febd-4709-9734-07e8b6708b87",
   "metadata": {},
   "outputs": [
    {
     "name": "stdout",
     "output_type": "stream",
     "text": [
      "Done\n"
     ]
    }
   ],
   "source": [
    "!docker tag kiada georgebaptista/kiada:0.1\n",
    "print(\"Done\")"
   ]
  },
  {
   "cell_type": "code",
   "execution_count": 17,
   "id": "50ebea28-106a-4a21-9961-daf077092f42",
   "metadata": {},
   "outputs": [
    {
     "name": "stdout",
     "output_type": "stream",
     "text": [
      "REPOSITORY             TAG       IMAGE ID       CREATED              SIZE\n",
      "georgebaptista/kiada   0.1       3c124ed8dcab   About a minute ago   911MB\n",
      "kiada                  latest    3c124ed8dcab   About a minute ago   911MB\n"
     ]
    }
   ],
   "source": [
    "!docker images"
   ]
  },
  {
   "cell_type": "markdown",
   "id": "d0190cdc-045c-499b-bcb8-e085f893563e",
   "metadata": {},
   "source": [
    "---\n",
    "If initial login to DockerHub, need to login with username/password, eg\n",
    "```\n",
    "docker login --username ..... --password ...\n",
    "```"
   ]
  },
  {
   "cell_type": "code",
   "execution_count": 45,
   "id": "c349d81c-3d88-4700-a8b1-bccaeefaf046",
   "metadata": {},
   "outputs": [],
   "source": [
    "# !docker login --username $USER --password $PASSWORD"
   ]
  },
  {
   "cell_type": "code",
   "execution_count": 18,
   "id": "5d2710e5-06be-4cbd-9457-9e3d32c2cb66",
   "metadata": {},
   "outputs": [
    {
     "name": "stdout",
     "output_type": "stream",
     "text": [
      "The push refers to repository [docker.io/georgebaptista/kiada]\n",
      "\n",
      "\u001b[1B5707de35: Preparing \n",
      "\u001b[1Bda07641c: Preparing \n",
      "\u001b[1Bec3f9823: Preparing \n",
      "\u001b[1B9b05cfc9: Preparing \n",
      "\u001b[1Baa46bd11: Preparing \n",
      "\u001b[1Bef705308: Preparing \n",
      "\u001b[1Bee259bc5: Preparing \n",
      "\u001b[1Bfe198f83: Preparing \n",
      "\u001b[1Bc4b93150: Preparing \n",
      "\u001b[1B3d4fb826: Preparing \n",
      "\u001b[11B707de35: Pushed lready exists 1kB\u001b[9A\u001b[2K\u001b[11A\u001b[2K\u001b[11A\u001b[2K\u001b[5A\u001b[2K\u001b[1A\u001b[2K\u001b[11A\u001b[2K0.1: digest: sha256:2d86a1a0459db9944192d87769729b09ae0e005dac338a19215892c679aa19e2 size: 2632\n"
     ]
    }
   ],
   "source": [
    "!docker push georgebaptista/kiada:0.1"
   ]
  },
  {
   "cell_type": "markdown",
   "id": "02bf51c6-0fad-46ae-95b2-6b50a7331a15",
   "metadata": {},
   "source": [
    "---\n",
    "## Clean-up (if necessary)"
   ]
  },
  {
   "cell_type": "code",
   "execution_count": 19,
   "id": "70b6d2b5-688d-498f-9b46-90de788065b9",
   "metadata": {},
   "outputs": [
    {
     "name": "stdout",
     "output_type": "stream",
     "text": [
      "REPOSITORY             TAG       IMAGE ID       CREATED              SIZE\n",
      "kiada                  latest    3c124ed8dcab   About a minute ago   911MB\n",
      "georgebaptista/kiada   0.1       3c124ed8dcab   About a minute ago   911MB\n"
     ]
    }
   ],
   "source": [
    "!docker images"
   ]
  },
  {
   "cell_type": "code",
   "execution_count": 22,
   "id": "25336747-def0-4bbe-a471-90d7fc4987ab",
   "metadata": {},
   "outputs": [
    {
     "name": "stdout",
     "output_type": "stream",
     "text": [
      "\"docker stop\" requires at least 1 argument.\n",
      "See 'docker stop --help'.\n",
      "\n",
      "Usage:  docker stop [OPTIONS] CONTAINER [CONTAINER...]\n",
      "\n",
      "Stop one or more running containers\n"
     ]
    }
   ],
   "source": [
    "# Stop all containers\n",
    "!docker stop $(docker ps -a -q)"
   ]
  },
  {
   "cell_type": "code",
   "execution_count": 23,
   "id": "e662e3e2-8884-4fd7-8b48-2a8ecc267096",
   "metadata": {},
   "outputs": [
    {
     "name": "stdout",
     "output_type": "stream",
     "text": [
      "\"docker rm\" requires at least 1 argument.\n",
      "See 'docker rm --help'.\n",
      "\n",
      "Usage:  docker rm [OPTIONS] CONTAINER [CONTAINER...]\n",
      "\n",
      "Remove one or more containers\n"
     ]
    }
   ],
   "source": [
    "# Remove all containers\n",
    "!docker rm $(docker ps -a -q)"
   ]
  },
  {
   "cell_type": "code",
   "execution_count": 24,
   "id": "0b0ba662-abb5-47a3-a87b-753650b1c52e",
   "metadata": {},
   "outputs": [
    {
     "name": "stdout",
     "output_type": "stream",
     "text": [
      "Untagged: georgebaptista/kiada:0.1\n",
      "Untagged: georgebaptista/kiada@sha256:2d86a1a0459db9944192d87769729b09ae0e005dac338a19215892c679aa19e2\n",
      "Untagged: kiada:latest\n",
      "Deleted: sha256:3c124ed8dcabe2e9677708fe81e59ad4876e9ba69625759dc30b94a8c3d65c37\n",
      "Error: No such image: 3c124ed8dcab\n"
     ]
    }
   ],
   "source": [
    "# Remove all images\n",
    "!docker rmi $(docker images -a -q) --force"
   ]
  },
  {
   "cell_type": "code",
   "execution_count": 25,
   "id": "b4117dbd-1827-4f4c-914c-3a2f852b768c",
   "metadata": {},
   "outputs": [
    {
     "name": "stdout",
     "output_type": "stream",
     "text": [
      "Deleted build cache objects:\n",
      "4gajmsy8prsdxneacgefgrbx6\n",
      "89guezulfmk54drgchcpwlrv8\n",
      "278xp3qyp549x8d7lo0llhdiz\n",
      "otryj9eue2x97jx9hxdm9n1rk\n",
      "zibrm19ws7o4guw7o2aqghys1\n",
      "psd6d7duo0pnoj7olx768r7kj\n",
      "tf3p2zx43u52ig887br7ajfa0\n",
      "id5jifvlpc203jmf72kmoz1w4\n",
      "gvu55b5hlnfigl4wjled47oob\n",
      "ono3ollnj2n9x7fm52543u43r\n",
      "5jpvsw0iny86rss2cwdadye5p\n",
      "yhqilghums4lht3frn9zo4cpk\n",
      "mnwwiwcqak2dl3dkgrnm6cg01\n",
      "pqs9gsz4wp8l4cnknn0t8zhj0\n",
      "\n",
      "Total reclaimed space: 1.072MB\n"
     ]
    }
   ],
   "source": [
    "# Clean-up\n",
    "!docker system prune --force"
   ]
  },
  {
   "cell_type": "code",
   "execution_count": null,
   "id": "8e3bf3cd-4ebb-455d-825c-815b81fa53b0",
   "metadata": {},
   "outputs": [],
   "source": []
  }
 ],
 "metadata": {
  "kernelspec": {
   "display_name": "Python 3 (ipykernel)",
   "language": "python",
   "name": "python3"
  },
  "language_info": {
   "codemirror_mode": {
    "name": "ipython",
    "version": 3
   },
   "file_extension": ".py",
   "mimetype": "text/x-python",
   "name": "python",
   "nbconvert_exporter": "python",
   "pygments_lexer": "ipython3",
   "version": "3.8.12"
  }
 },
 "nbformat": 4,
 "nbformat_minor": 5
}
